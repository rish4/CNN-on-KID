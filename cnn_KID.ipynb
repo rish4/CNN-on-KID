{
  "nbformat": 4,
  "nbformat_minor": 0,
  "metadata": {
    "colab": {
      "name": "cnn_KID.ipynb",
      "provenance": [],
      "mount_file_id": "1On0pdP3QP1DRiuNI77ZLR1CjgxjBwPx4",
      "authorship_tag": "ABX9TyPfZoSWDZiIJEKFEatCsXTf",
      "include_colab_link": true
    },
    "kernelspec": {
      "name": "python3",
      "display_name": "Python 3"
    },
    "accelerator": "GPU"
  },
  "cells": [
    {
      "cell_type": "markdown",
      "metadata": {
        "id": "view-in-github",
        "colab_type": "text"
      },
      "source": [
        "<a href=\"https://colab.research.google.com/github/rish4/CNN-on-KID/blob/master/cnn_KID.ipynb\" target=\"_parent\"><img src=\"https://colab.research.google.com/assets/colab-badge.svg\" alt=\"Open In Colab\"/></a>"
      ]
    },
    {
      "cell_type": "markdown",
      "metadata": {
        "id": "sA8cDi2cCBQU",
        "colab_type": "text"
      },
      "source": [
        "#CNN for healthy v/s unhealthy classification of WCE images from KID dataset\n"
      ]
    },
    {
      "cell_type": "code",
      "metadata": {
        "id": "YDjJyH9GAx1m",
        "colab_type": "code",
        "colab": {
          "base_uri": "https://localhost:8080/",
          "height": 34
        },
        "outputId": "6c5adc24-ced1-4b67-c473-5264e9deecc7"
      },
      "source": [
        "# Convolutional Neural Network\n",
        "\n",
        "# Building the CNN\n",
        "\n",
        "# Importing the Keras packages \n",
        "from keras.models import Sequential   #to initialize the neural network\n",
        "from keras.layers import Convolution2D\n",
        "from keras.layers import MaxPooling2D\n",
        "from keras.layers import Flatten\n",
        "from keras.layers import Dense      # to add fully connected layers in ANN\n",
        "import numpy as np\n",
        "from sklearn.metrics import confusion_matrix, classification_report"
      ],
      "execution_count": 2,
      "outputs": [
        {
          "output_type": "stream",
          "text": [
            "Using TensorFlow backend.\n"
          ],
          "name": "stderr"
        }
      ]
    },
    {
      "cell_type": "code",
      "metadata": {
        "id": "zdKPOc91CTix",
        "colab_type": "code",
        "colab": {
          "base_uri": "https://localhost:8080/",
          "height": 139
        },
        "outputId": "51c904f5-ba78-4e18-9420-3b561543600b"
      },
      "source": [
        "# Initializing the CNN\n",
        "classifier = Sequential()\n",
        "\n",
        "# Step-1 Convolution\n",
        "classifier.add(Convolution2D(32, 3, 3, input_shape=(64, 64, 3), activation='relu'))\n",
        "\n",
        "#Step-2 Max Pooling\n",
        "classifier.add(MaxPooling2D(pool_size=(2,2)))\n",
        "\n",
        "# Adding second convolutional layer\n",
        "classifier.add(Convolution2D(32, 3, 3, activation='relu'))\n",
        "classifier.add(MaxPooling2D(pool_size=(2,2)))\n",
        "\n",
        "# Step-3 Flattening\n",
        "classifier.add(Flatten())\n",
        "\n",
        "# Full Connection\n",
        "classifier.add(Dense(output_dim=128, activation='relu'))\n",
        "classifier.add(Dense(output_dim=1, activation='sigmoid'))"
      ],
      "execution_count": 3,
      "outputs": [
        {
          "output_type": "stream",
          "text": [
            "/usr/local/lib/python3.6/dist-packages/ipykernel_launcher.py:5: UserWarning: Update your `Conv2D` call to the Keras 2 API: `Conv2D(32, (3, 3), input_shape=(64, 64, 3..., activation=\"relu\")`\n",
            "  \"\"\"\n",
            "/usr/local/lib/python3.6/dist-packages/ipykernel_launcher.py:11: UserWarning: Update your `Conv2D` call to the Keras 2 API: `Conv2D(32, (3, 3), activation=\"relu\")`\n",
            "  # This is added back by InteractiveShellApp.init_path()\n",
            "/usr/local/lib/python3.6/dist-packages/ipykernel_launcher.py:18: UserWarning: Update your `Dense` call to the Keras 2 API: `Dense(activation=\"relu\", units=128)`\n",
            "/usr/local/lib/python3.6/dist-packages/ipykernel_launcher.py:19: UserWarning: Update your `Dense` call to the Keras 2 API: `Dense(activation=\"sigmoid\", units=1)`\n"
          ],
          "name": "stderr"
        }
      ]
    },
    {
      "cell_type": "code",
      "metadata": {
        "id": "GdePFaxXClOq",
        "colab_type": "code",
        "colab": {}
      },
      "source": [
        "# Compiling the CNN\n",
        "classifier.compile(optimizer= 'adam', loss='binary_crossentropy', metrics=['accuracy'])"
      ],
      "execution_count": 0,
      "outputs": []
    },
    {
      "cell_type": "code",
      "metadata": {
        "id": "yy7lIVPLC9-j",
        "colab_type": "code",
        "colab": {}
      },
      "source": [
        "# Fitting the CNN to the images\n",
        "from keras.preprocessing.image import ImageDataGenerator\n",
        "\n",
        "train_datagen = ImageDataGenerator(rescale = 1./255,\n",
        "                                   shear_range = 0.2,\n",
        "                                   zoom_range = 0.2,\n",
        "                                   horizontal_flip = True)\n",
        "\n",
        "test_datagen = ImageDataGenerator(rescale = 1./255)"
      ],
      "execution_count": 0,
      "outputs": []
    },
    {
      "cell_type": "code",
      "metadata": {
        "id": "iezlXnOQDGL5",
        "colab_type": "code",
        "colab": {
          "base_uri": "https://localhost:8080/",
          "height": 34
        },
        "outputId": "0fcd9386-aa49-4523-c381-e5febb82165b"
      },
      "source": [
        "training_set = train_datagen.flow_from_directory('/content/drive/My Drive/KID dataset - Copy/Training set',\n",
        "                                                 target_size = (64, 64),\n",
        "                                                 batch_size = 32,\n",
        "                                                 class_mode = 'binary')"
      ],
      "execution_count": 7,
      "outputs": [
        {
          "output_type": "stream",
          "text": [
            "Found 772 images belonging to 2 classes.\n"
          ],
          "name": "stdout"
        }
      ]
    },
    {
      "cell_type": "code",
      "metadata": {
        "id": "Ab9v3DiTkV9y",
        "colab_type": "code",
        "colab": {
          "base_uri": "https://localhost:8080/",
          "height": 34
        },
        "outputId": "480a820b-895a-4112-fb5c-c5f3228c8856"
      },
      "source": [
        "test_set = test_datagen.flow_from_directory('/content/drive/My Drive/KID dataset - Copy/Test set',\n",
        "                                            target_size = (64, 64),\n",
        "                                            batch_size = 32,\n",
        "                                            class_mode = 'binary')\n"
      ],
      "execution_count": 8,
      "outputs": [
        {
          "output_type": "stream",
          "text": [
            "Found 85 images belonging to 2 classes.\n"
          ],
          "name": "stdout"
        }
      ]
    },
    {
      "cell_type": "code",
      "metadata": {
        "id": "Svk5Y8fMkhst",
        "colab_type": "code",
        "colab": {
          "base_uri": "https://localhost:8080/",
          "height": 989
        },
        "outputId": "c1dd1c4a-a878-4825-deef-77c1c2d0a973"
      },
      "source": [
        "r=classifier.fit_generator(training_set,\n",
        "                         samples_per_epoch = 772,\n",
        "                         nb_epoch = 25,\n",
        "                         validation_data = test_set,\n",
        "                         nb_val_samples = 85)"
      ],
      "execution_count": 9,
      "outputs": [
        {
          "output_type": "stream",
          "text": [
            "/usr/local/lib/python3.6/dist-packages/ipykernel_launcher.py:5: UserWarning: The semantics of the Keras 2 argument `steps_per_epoch` is not the same as the Keras 1 argument `samples_per_epoch`. `steps_per_epoch` is the number of batches to draw from the generator at each epoch. Basically steps_per_epoch = samples_per_epoch/batch_size. Similarly `nb_val_samples`->`validation_steps` and `val_samples`->`steps` arguments have changed. Update your method calls accordingly.\n",
            "  \"\"\"\n",
            "/usr/local/lib/python3.6/dist-packages/ipykernel_launcher.py:5: UserWarning: Update your `fit_generator` call to the Keras 2 API: `fit_generator(<keras.pre..., validation_data=<keras.pre..., steps_per_epoch=24, epochs=25, validation_steps=85)`\n",
            "  \"\"\"\n"
          ],
          "name": "stderr"
        },
        {
          "output_type": "stream",
          "text": [
            "Epoch 1/25\n"
          ],
          "name": "stdout"
        },
        {
          "output_type": "stream",
          "text": [
            "/usr/local/lib/python3.6/dist-packages/keras/utils/data_utils.py:616: UserWarning: The input 10 could not be retrieved. It could be because a worker has died.\n",
            "  UserWarning)\n"
          ],
          "name": "stderr"
        },
        {
          "output_type": "stream",
          "text": [
            "24/24 [==============================] - 635s 26s/step - loss: 0.5808 - accuracy: 0.6986 - val_loss: 0.3371 - val_accuracy: 0.8715\n",
            "Epoch 2/25\n",
            "24/24 [==============================] - 29s 1s/step - loss: 0.4307 - accuracy: 0.7743 - val_loss: 0.2145 - val_accuracy: 0.9291\n",
            "Epoch 3/25\n",
            "24/24 [==============================] - 15s 614ms/step - loss: 0.3367 - accuracy: 0.8324 - val_loss: 0.4955 - val_accuracy: 0.7539\n",
            "Epoch 4/25\n",
            "24/24 [==============================] - 15s 606ms/step - loss: 0.3578 - accuracy: 0.8257 - val_loss: 0.1438 - val_accuracy: 0.9299\n",
            "Epoch 5/25\n",
            "24/24 [==============================] - 14s 603ms/step - loss: 0.3257 - accuracy: 0.8608 - val_loss: 0.1623 - val_accuracy: 0.9283\n",
            "Epoch 6/25\n",
            "24/24 [==============================] - 15s 609ms/step - loss: 0.2688 - accuracy: 0.8797 - val_loss: 0.1571 - val_accuracy: 0.9650\n",
            "Epoch 7/25\n",
            "24/24 [==============================] - 14s 601ms/step - loss: 0.2351 - accuracy: 0.8971 - val_loss: 0.2229 - val_accuracy: 0.9291\n",
            "Epoch 8/25\n",
            "24/24 [==============================] - 14s 594ms/step - loss: 0.3007 - accuracy: 0.8539 - val_loss: 0.2426 - val_accuracy: 0.8955\n",
            "Epoch 9/25\n",
            "24/24 [==============================] - 14s 593ms/step - loss: 0.2498 - accuracy: 0.9068 - val_loss: 0.0533 - val_accuracy: 0.8938\n",
            "Epoch 10/25\n",
            "24/24 [==============================] - 14s 586ms/step - loss: 0.2229 - accuracy: 0.9023 - val_loss: 0.2461 - val_accuracy: 0.9171\n",
            "Epoch 11/25\n",
            "24/24 [==============================] - 14s 586ms/step - loss: 0.2437 - accuracy: 0.8946 - val_loss: 0.0902 - val_accuracy: 0.9067\n",
            "Epoch 12/25\n",
            "24/24 [==============================] - 14s 580ms/step - loss: 0.2181 - accuracy: 0.9087 - val_loss: 0.0333 - val_accuracy: 0.8817\n",
            "Epoch 13/25\n",
            "24/24 [==============================] - 14s 578ms/step - loss: 0.2584 - accuracy: 0.9135 - val_loss: 0.3138 - val_accuracy: 0.9171\n",
            "Epoch 14/25\n",
            "24/24 [==============================] - 14s 578ms/step - loss: 0.2828 - accuracy: 0.8919 - val_loss: 0.2875 - val_accuracy: 0.8951\n",
            "Epoch 15/25\n",
            "24/24 [==============================] - 14s 585ms/step - loss: 0.2480 - accuracy: 0.8906 - val_loss: 0.1462 - val_accuracy: 0.9288\n",
            "Epoch 16/25\n",
            "24/24 [==============================] - 14s 581ms/step - loss: 0.1996 - accuracy: 0.9216 - val_loss: 0.1985 - val_accuracy: 0.9291\n",
            "Epoch 17/25\n",
            "24/24 [==============================] - 14s 578ms/step - loss: 0.2130 - accuracy: 0.9054 - val_loss: 0.1166 - val_accuracy: 0.9652\n",
            "Epoch 18/25\n",
            "24/24 [==============================] - 14s 584ms/step - loss: 0.1751 - accuracy: 0.9270 - val_loss: 0.2719 - val_accuracy: 0.9413\n",
            "Epoch 19/25\n",
            "24/24 [==============================] - 14s 578ms/step - loss: 0.1916 - accuracy: 0.9095 - val_loss: 0.1602 - val_accuracy: 0.9063\n",
            "Epoch 20/25\n",
            "24/24 [==============================] - 14s 573ms/step - loss: 0.1880 - accuracy: 0.9216 - val_loss: 0.2608 - val_accuracy: 0.9063\n",
            "Epoch 21/25\n",
            "24/24 [==============================] - 14s 580ms/step - loss: 0.2022 - accuracy: 0.9189 - val_loss: 0.1909 - val_accuracy: 0.9175\n",
            "Epoch 22/25\n",
            "24/24 [==============================] - 14s 573ms/step - loss: 0.1885 - accuracy: 0.9216 - val_loss: 0.1459 - val_accuracy: 0.9295\n",
            "Epoch 23/25\n",
            "24/24 [==============================] - 14s 578ms/step - loss: 0.2313 - accuracy: 0.9081 - val_loss: 0.2575 - val_accuracy: 0.8939\n",
            "Epoch 24/25\n",
            "24/24 [==============================] - 14s 576ms/step - loss: 0.2070 - accuracy: 0.9203 - val_loss: 0.1601 - val_accuracy: 0.9059\n",
            "Epoch 25/25\n",
            "24/24 [==============================] - 14s 590ms/step - loss: 0.1796 - accuracy: 0.9351 - val_loss: 0.1880 - val_accuracy: 0.9287\n"
          ],
          "name": "stdout"
        }
      ]
    },
    {
      "cell_type": "markdown",
      "metadata": {
        "id": "wD5aEyyumNdT",
        "colab_type": "text"
      },
      "source": [
        "Loss Curve"
      ]
    },
    {
      "cell_type": "code",
      "metadata": {
        "id": "iKXdrcMjmPyX",
        "colab_type": "code",
        "colab": {
          "base_uri": "https://localhost:8080/",
          "height": 265
        },
        "outputId": "183f043a-86aa-4b1c-ed3f-84ae0b877e31"
      },
      "source": [
        "import matplotlib.pyplot as plt\n",
        "plt.plot(r.history['loss'], label='loss')\n",
        "plt.plot(r.history['val_loss'], label='val_loss')\n",
        "plt.legend()\n",
        "plt.show()"
      ],
      "execution_count": 10,
      "outputs": [
        {
          "output_type": "display_data",
          "data": {
            "image/png": "[encoded data removed]",
            "text/plain": [
              "<Figure size 432x288 with 1 Axes>"
            ]
          },
          "metadata": {
            "tags": [],
            "needs_background": "light"
          }
        }
      ]
    },
    {
      "cell_type": "markdown",
      "metadata": {
        "id": "zDQTRF8ymXEg",
        "colab_type": "text"
      },
      "source": [
        "Accuracy Curve"
      ]
    },
    {
      "cell_type": "code",
      "metadata": {
        "id": "PaTlXxJ5mbnf",
        "colab_type": "code",
        "colab": {
          "base_uri": "https://localhost:8080/",
          "height": 265
        },
        "outputId": "b5fb9a8d-b7eb-4bd0-fd07-02b12da9a738"
      },
      "source": [
        "plt.plot(r.history['accuracy'], label='acc')\n",
        "plt.plot(r.history['val_accuracy'], label='val_acc')\n",
        "plt.legend()\n",
        "plt.show()"
      ],
      "execution_count": 11,
      "outputs": [
        {
          "output_type": "display_data",
          "data": {
            "image/png": "[encoded data removed]",
            "text/plain": [
              "<Figure size 432x288 with 1 Axes>"
            ]
          },
          "metadata": {
            "tags": [],
            "needs_background": "light"
          }
        }
      ]
    }
  ]
}