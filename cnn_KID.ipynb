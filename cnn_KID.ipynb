{
  "nbformat": 4,
  "nbformat_minor": 0,
  "metadata": {
    "colab": {
      "name": "cnn_KID.ipynb",
      "provenance": [],
      "toc_visible": true,
      "mount_file_id": "1On0pdP3QP1DRiuNI77ZLR1CjgxjBwPx4",
      "authorship_tag": "ABX9TyPeRh07ux3yTOULZ0IyW6di",
      "include_colab_link": true
    },
    "kernelspec": {
      "name": "python3",
      "display_name": "Python 3"
    },
    "accelerator": "GPU"
  },
  "cells": [
    {
      "cell_type": "markdown",
      "metadata": {
        "id": "view-in-github",
        "colab_type": "text"
      },
      "source": [
        "<a href=\"https://colab.research.google.com/github/rish4/CNN-on-KID/blob/master/cnn_KID.ipynb\" target=\"_parent\"><img src=\"https://colab.research.google.com/assets/colab-badge.svg\" alt=\"Open In Colab\"/></a>"
      ]
    },
    {
      "cell_type": "markdown",
      "metadata": {
        "id": "sA8cDi2cCBQU",
        "colab_type": "text"
      },
      "source": [
        "#CNN for healthy v/s unhealthy classification of WCE images from KID dataset\n"
      ]
    },
    {
      "cell_type": "code",
      "metadata": {
        "id": "YDjJyH9GAx1m",
        "colab_type": "code",
        "outputId": "8b905d96-d65e-4f28-9d23-288d74651d7f",
        "colab": {
          "base_uri": "https://localhost:8080/",
          "height": 34
        }
      },
      "source": [
        "# Convolutional Neural Network\n",
        "\n",
        "# Building the CNN\n",
        "\n",
        "# Importing the Keras packages \n",
        "from keras.models import Sequential   #to initialize the neural network\n",
        "from keras.layers import Convolution2D\n",
        "from keras.layers import MaxPooling2D\n",
        "from keras.layers import Flatten\n",
        "from keras.layers import Dense      # to add fully connected layers in ANN\n",
        "import numpy as np\n",
        "from sklearn.metrics import confusion_matrix, classification_report"
      ],
      "execution_count": 1,
      "outputs": [
        {
          "output_type": "stream",
          "text": [
            "Using TensorFlow backend.\n"
          ],
          "name": "stderr"
        }
      ]
    },
    {
      "cell_type": "code",
      "metadata": {
        "id": "zdKPOc91CTix",
        "colab_type": "code",
        "outputId": "9eedb186-5992-4b7e-c00e-fb78d9e8b4a7",
        "colab": {
          "base_uri": "https://localhost:8080/",
          "height": 139
        }
      },
      "source": [
        "# Initializing the CNN\n",
        "classifier = Sequential()\n",
        "\n",
        "# Step-1 Convolution\n",
        "classifier.add(Convolution2D(32, 3, 3, input_shape=(64, 64, 3), activation='relu'))\n",
        "\n",
        "#Step-2 Max Pooling\n",
        "classifier.add(MaxPooling2D(pool_size=(2,2)))\n",
        "\n",
        "# Adding second convolutional layer\n",
        "classifier.add(Convolution2D(32, 3, 3, activation='relu'))\n",
        "classifier.add(MaxPooling2D(pool_size=(2,2)))\n",
        "\n",
        "# Step-3 Flattening\n",
        "classifier.add(Flatten())\n",
        "\n",
        "# Full Connection\n",
        "classifier.add(Dense(output_dim=128, activation='relu'))\n",
        "classifier.add(Dense(output_dim=1, activation='sigmoid'))"
      ],
      "execution_count": 2,
      "outputs": [
        {
          "output_type": "stream",
          "text": [
            "/usr/local/lib/python3.6/dist-packages/ipykernel_launcher.py:5: UserWarning: Update your `Conv2D` call to the Keras 2 API: `Conv2D(32, (3, 3), input_shape=(64, 64, 3..., activation=\"relu\")`\n",
            "  \"\"\"\n",
            "/usr/local/lib/python3.6/dist-packages/ipykernel_launcher.py:11: UserWarning: Update your `Conv2D` call to the Keras 2 API: `Conv2D(32, (3, 3), activation=\"relu\")`\n",
            "  # This is added back by InteractiveShellApp.init_path()\n",
            "/usr/local/lib/python3.6/dist-packages/ipykernel_launcher.py:18: UserWarning: Update your `Dense` call to the Keras 2 API: `Dense(activation=\"relu\", units=128)`\n",
            "/usr/local/lib/python3.6/dist-packages/ipykernel_launcher.py:19: UserWarning: Update your `Dense` call to the Keras 2 API: `Dense(activation=\"sigmoid\", units=1)`\n"
          ],
          "name": "stderr"
        }
      ]
    },
    {
      "cell_type": "code",
      "metadata": {
        "id": "GdePFaxXClOq",
        "colab_type": "code",
        "colab": {}
      },
      "source": [
        "# Compiling the CNN\n",
        "classifier.compile(optimizer= 'adam', loss='binary_crossentropy', metrics=['accuracy'])"
      ],
      "execution_count": 0,
      "outputs": []
    },
    {
      "cell_type": "code",
      "metadata": {
        "id": "yy7lIVPLC9-j",
        "colab_type": "code",
        "colab": {}
      },
      "source": [
        "# Fitting the CNN to the images\n",
        "from keras.preprocessing.image import ImageDataGenerator\n",
        "\n",
        "train_datagen = ImageDataGenerator(rescale = 1./255,\n",
        "                                   shear_range = 0.2,\n",
        "                                   zoom_range = 0.2,\n",
        "                                   horizontal_flip = True)\n",
        "\n",
        "test_datagen = ImageDataGenerator(rescale = 1./255)"
      ],
      "execution_count": 0,
      "outputs": []
    },
    {
      "cell_type": "code",
      "metadata": {
        "id": "iezlXnOQDGL5",
        "colab_type": "code",
        "outputId": "14834214-753b-4a2f-c1c3-299da784ee6e",
        "colab": {
          "base_uri": "https://localhost:8080/",
          "height": 34
        }
      },
      "source": [
        "training_set = train_datagen.flow_from_directory('/content/drive/My Drive/KID dataset - Copy (1)/Training set (1)',\n",
        "                                                 target_size = (64, 64),\n",
        "                                                 batch_size = 16,\n",
        "                                                 class_mode = 'binary')"
      ],
      "execution_count": 5,
      "outputs": [
        {
          "output_type": "stream",
          "text": [
            "Found 782 images belonging to 2 classes.\n"
          ],
          "name": "stdout"
        }
      ]
    },
    {
      "cell_type": "code",
      "metadata": {
        "id": "Ab9v3DiTkV9y",
        "colab_type": "code",
        "outputId": "2db6b0d5-0673-4f62-ed20-7219ebd5d1f2",
        "colab": {
          "base_uri": "https://localhost:8080/",
          "height": 34
        }
      },
      "source": [
        "test_set = test_datagen.flow_from_directory('/content/drive/My Drive/KID dataset - Copy (1)/Test set (1)',\n",
        "                                            target_size = (64, 64),\n",
        "                                            batch_size = 16,\n",
        "                                            class_mode = 'binary')\n"
      ],
      "execution_count": 6,
      "outputs": [
        {
          "output_type": "stream",
          "text": [
            "Found 85 images belonging to 2 classes.\n"
          ],
          "name": "stdout"
        }
      ]
    },
    {
      "cell_type": "code",
      "metadata": {
        "id": "Svk5Y8fMkhst",
        "colab_type": "code",
        "outputId": "00b99271-26b5-405a-f95d-7920a027162a",
        "colab": {
          "base_uri": "https://localhost:8080/",
          "height": 955
        }
      },
      "source": [
        "r=classifier.fit_generator(training_set,\n",
        "                         samples_per_epoch = 782,\n",
        "                         nb_epoch = 25,\n",
        "                         validation_data = test_set,\n",
        "                         nb_val_samples = 85)"
      ],
      "execution_count": 7,
      "outputs": [
        {
          "output_type": "stream",
          "text": [
            "/usr/local/lib/python3.6/dist-packages/ipykernel_launcher.py:5: UserWarning: The semantics of the Keras 2 argument `steps_per_epoch` is not the same as the Keras 1 argument `samples_per_epoch`. `steps_per_epoch` is the number of batches to draw from the generator at each epoch. Basically steps_per_epoch = samples_per_epoch/batch_size. Similarly `nb_val_samples`->`validation_steps` and `val_samples`->`steps` arguments have changed. Update your method calls accordingly.\n",
            "  \"\"\"\n",
            "/usr/local/lib/python3.6/dist-packages/ipykernel_launcher.py:5: UserWarning: Update your `fit_generator` call to the Keras 2 API: `fit_generator(<keras.pre..., validation_data=<keras.pre..., steps_per_epoch=48, epochs=25, validation_steps=85)`\n",
            "  \"\"\"\n"
          ],
          "name": "stderr"
        },
        {
          "output_type": "stream",
          "text": [
            "Epoch 1/25\n",
            "48/48 [==============================] - 13s 265ms/step - loss: 0.4950 - accuracy: 0.7467 - val_loss: 0.4909 - val_accuracy: 0.8118\n",
            "Epoch 2/25\n",
            "48/48 [==============================] - 12s 250ms/step - loss: 0.4274 - accuracy: 0.7924 - val_loss: 0.1384 - val_accuracy: 0.9303\n",
            "Epoch 3/25\n",
            "48/48 [==============================] - 12s 250ms/step - loss: 0.3497 - accuracy: 0.8368 - val_loss: 0.1906 - val_accuracy: 0.9154\n",
            "Epoch 4/25\n",
            "48/48 [==============================] - 12s 250ms/step - loss: 0.3152 - accuracy: 0.8708 - val_loss: 0.2102 - val_accuracy: 0.9411\n",
            "Epoch 5/25\n",
            "48/48 [==============================] - 12s 248ms/step - loss: 0.2990 - accuracy: 0.8799 - val_loss: 0.2574 - val_accuracy: 0.9386\n",
            "Epoch 6/25\n",
            "48/48 [==============================] - 12s 249ms/step - loss: 0.2456 - accuracy: 0.9073 - val_loss: 0.1115 - val_accuracy: 0.9054\n",
            "Epoch 7/25\n",
            "48/48 [==============================] - 12s 244ms/step - loss: 0.2940 - accuracy: 0.8864 - val_loss: 0.1907 - val_accuracy: 0.9643\n",
            "Epoch 8/25\n",
            "48/48 [==============================] - 12s 244ms/step - loss: 0.2504 - accuracy: 0.8943 - val_loss: 0.2723 - val_accuracy: 0.8947\n",
            "Epoch 9/25\n",
            "48/48 [==============================] - 12s 244ms/step - loss: 0.2345 - accuracy: 0.8956 - val_loss: 0.1580 - val_accuracy: 0.9080\n",
            "Epoch 10/25\n",
            "48/48 [==============================] - 12s 240ms/step - loss: 0.2377 - accuracy: 0.9060 - val_loss: 0.1364 - val_accuracy: 0.9163\n",
            "Epoch 11/25\n",
            "48/48 [==============================] - 12s 242ms/step - loss: 0.2406 - accuracy: 0.9023 - val_loss: 0.2194 - val_accuracy: 0.8458\n",
            "Epoch 12/25\n",
            "48/48 [==============================] - 11s 235ms/step - loss: 0.2352 - accuracy: 0.8914 - val_loss: 0.4231 - val_accuracy: 0.8946\n",
            "Epoch 13/25\n",
            "48/48 [==============================] - 11s 234ms/step - loss: 0.2322 - accuracy: 0.8982 - val_loss: 0.2514 - val_accuracy: 0.9287\n",
            "Epoch 14/25\n",
            "48/48 [==============================] - 11s 236ms/step - loss: 0.2141 - accuracy: 0.9164 - val_loss: 0.2478 - val_accuracy: 0.9063\n",
            "Epoch 15/25\n",
            "48/48 [==============================] - 12s 242ms/step - loss: 0.2288 - accuracy: 0.8997 - val_loss: 0.0922 - val_accuracy: 0.8839\n",
            "Epoch 16/25\n",
            "48/48 [==============================] - 11s 235ms/step - loss: 0.2022 - accuracy: 0.9202 - val_loss: 0.1073 - val_accuracy: 0.9295\n",
            "Epoch 17/25\n",
            "48/48 [==============================] - 11s 238ms/step - loss: 0.1976 - accuracy: 0.9191 - val_loss: 0.4606 - val_accuracy: 0.8789\n",
            "Epoch 18/25\n",
            "48/48 [==============================] - 11s 235ms/step - loss: 0.2095 - accuracy: 0.9167 - val_loss: 0.1104 - val_accuracy: 0.9406\n",
            "Epoch 19/25\n",
            "48/48 [==============================] - 11s 238ms/step - loss: 0.1925 - accuracy: 0.9282 - val_loss: 0.1276 - val_accuracy: 0.9179\n",
            "Epoch 20/25\n",
            "48/48 [==============================] - 11s 234ms/step - loss: 0.1826 - accuracy: 0.9332 - val_loss: 0.1155 - val_accuracy: 0.9063\n",
            "Epoch 21/25\n",
            "48/48 [==============================] - 11s 232ms/step - loss: 0.1681 - accuracy: 0.9308 - val_loss: 0.2419 - val_accuracy: 0.9071\n",
            "Epoch 22/25\n",
            "48/48 [==============================] - 11s 229ms/step - loss: 0.1552 - accuracy: 0.9373 - val_loss: 0.2564 - val_accuracy: 0.9312\n",
            "Epoch 23/25\n",
            "48/48 [==============================] - 11s 236ms/step - loss: 0.2141 - accuracy: 0.9099 - val_loss: 0.0339 - val_accuracy: 0.9395\n",
            "Epoch 24/25\n",
            "48/48 [==============================] - 11s 239ms/step - loss: 0.1821 - accuracy: 0.9310 - val_loss: 0.5862 - val_accuracy: 0.9054\n",
            "Epoch 25/25\n",
            "48/48 [==============================] - 11s 238ms/step - loss: 0.1265 - accuracy: 0.9556 - val_loss: 0.0996 - val_accuracy: 0.9187\n"
          ],
          "name": "stdout"
        }
      ]
    },
    {
      "cell_type": "markdown",
      "metadata": {
        "id": "wD5aEyyumNdT",
        "colab_type": "text"
      },
      "source": [
        "Loss Curve"
      ]
    },
    {
      "cell_type": "code",
      "metadata": {
        "id": "iKXdrcMjmPyX",
        "colab_type": "code",
        "outputId": "9492386d-b7e7-4a43-def2-a17e5440a0c8",
        "colab": {
          "base_uri": "https://localhost:8080/",
          "height": 265
        }
      },
      "source": [
        "import matplotlib.pyplot as plt\n",
        "plt.plot(r.history['loss'], label='loss')\n",
        "plt.plot(r.history['val_loss'], label='val_loss')\n",
        "plt.legend()\n",
        "plt.show()"
      ],
      "execution_count": 8,
      "outputs": [
        {
          "output_type": "display_data",
          "data": {
            "image/png": "[encoded data removed]",
            "text/plain": [
              "<Figure size 432x288 with 1 Axes>"
            ]
          },
          "metadata": {
            "tags": [],
            "needs_background": "light"
          }
        }
      ]
    },
    {
      "cell_type": "markdown",
      "metadata": {
        "id": "zDQTRF8ymXEg",
        "colab_type": "text"
      },
      "source": [
        "Accuracy Curve"
      ]
    },
    {
      "cell_type": "code",
      "metadata": {
        "id": "PaTlXxJ5mbnf",
        "colab_type": "code",
        "outputId": "f408ebdf-29c9-4dfe-b95b-c6415e2d70ae",
        "colab": {
          "base_uri": "https://localhost:8080/",
          "height": 265
        }
      },
      "source": [
        "plt.plot(r.history['accuracy'], label='acc')\n",
        "plt.plot(r.history['val_accuracy'], label='val_acc')\n",
        "plt.legend()\n",
        "plt.show()"
      ],
      "execution_count": 9,
      "outputs": [
        {
          "output_type": "display_data",
          "data": {
            "image/png": "[encoded data removed]",
            "text/plain": [
              "<Figure size 432x288 with 1 Axes>"
            ]
          },
          "metadata": {
            "tags": [],
            "needs_background": "light"
          }
        }
      ]
    },
    {
      "cell_type": "code",
      "metadata": {
        "id": "j7U1nreVqm1L",
        "colab_type": "code",
        "outputId": "37c2724c-7818-463d-f343-eefbaf830f7d",
        "colab": {
          "base_uri": "https://localhost:8080/",
          "height": 238
        }
      },
      "source": [
        "# Confusion Matrix\n",
        "#Confusion Matrix and Classification Report\n",
        "Y_pred= classifier.predict_generator(test_set, 85/16)  #num_of_test_samples // batch_size+1 \n",
        "#y_pred= np.argmax(Y_pred, axis=1)\n",
        "y_pred= np.where(Y_pred>0.5, 1, 0)\n",
        "print('Confusion Matrix')\n",
        "print(confusion_matrix(test_set.classes, y_pred))\n",
        "print('Classification Report')\n",
        "target_names = ['Healthy', 'Unhealthy']\n",
        "print(classification_report(test_set.classes, y_pred, target_names=target_names))"
      ],
      "execution_count": 26,
      "outputs": [
        {
          "output_type": "stream",
          "text": [
            "Confusion Matrix\n",
            "[[17 23]\n",
            " [20 25]]\n",
            "Classification Report\n",
            "              precision    recall  f1-score   support\n",
            "\n",
            "     Healthy       0.46      0.42      0.44        40\n",
            "   Unhealthy       0.52      0.56      0.54        45\n",
            "\n",
            "    accuracy                           0.49        85\n",
            "   macro avg       0.49      0.49      0.49        85\n",
            "weighted avg       0.49      0.49      0.49        85\n",
            "\n"
          ],
          "name": "stdout"
        }
      ]
    }
  ]
}